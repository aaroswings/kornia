{
 "cells": [
  {
   "cell_type": "code",
   "execution_count": 53,
   "id": "0a8c5a91-f5cd-41c4-b7bd-fc4b19aead2a",
   "metadata": {},
   "outputs": [],
   "source": [
    "import kornia as K\n",
    "import math\n",
    "import torch\n",
    "import torch.nn as nn\n",
    "import torch.nn.functional as F\n"
   ]
  },
  {
   "cell_type": "code",
   "execution_count": 2,
   "id": "a0d548b7-2bfa-4313-a963-fd01cff504d0",
   "metadata": {},
   "outputs": [],
   "source": [
    "cdt = K.contrib.ConvDistanceTransform()"
   ]
  },
  {
   "cell_type": "code",
   "execution_count": 3,
   "id": "e97bc3f0-879a-48de-9439-3cc87399966c",
   "metadata": {},
   "outputs": [],
   "source": [
    "import torch"
   ]
  },
  {
   "cell_type": "code",
   "execution_count": 103,
   "id": "2a769195-688c-42fb-9848-846c8a742354",
   "metadata": {},
   "outputs": [],
   "source": [
    "t = torch.zeros((1, 3, 100, 100))\n",
    "t[0, 0, 40:60, 50:70] = .01\n",
    "t[0, 2, 10:60, 20:70] = .01"
   ]
  },
  {
   "cell_type": "code",
   "execution_count": 5,
   "id": "44312341-9755-4640-859e-df3e356c8b98",
   "metadata": {},
   "outputs": [
    {
     "data": {
      "text/plain": [
       "tensor([[[[49.8104, 48.8733, 47.7875,  ..., 39.7925, 39.7994, 39.8733],\n",
       "          [49.7140, 48.7994, 47.6844,  ..., 38.6601, 38.6844, 38.7875],\n",
       "          [49.6982, 48.7925, 47.6601,  ..., 37.6982, 37.7140, 37.8104],\n",
       "          ...,\n",
       "          [49.6982, 48.7925, 47.6601,  ..., 37.6982, 37.7140, 37.8104],\n",
       "          [49.7140, 48.7994, 47.6844,  ..., 38.6601, 38.6844, 38.7875],\n",
       "          [49.8104, 48.8733, 47.7875,  ..., 39.7925, 39.7994, 39.8733]]]])"
      ]
     },
     "execution_count": 5,
     "metadata": {},
     "output_type": "execute_result"
    }
   ],
   "source": [
    "cdt(t)"
   ]
  },
  {
   "cell_type": "code",
   "execution_count": 6,
   "id": "3c40fe90-c08a-45e0-b440-49792c3bec54",
   "metadata": {},
   "outputs": [],
   "source": [
    "t = torch.Tensor(1)"
   ]
  },
  {
   "cell_type": "code",
   "execution_count": 7,
   "id": "19488967-826f-4539-a3fa-86ebe533ade0",
   "metadata": {},
   "outputs": [
    {
     "ename": "ValueError",
     "evalue": "Invalid input shape, we expect BxCxHxW. Got: torch.Size([1])",
     "output_type": "error",
     "traceback": [
      "\u001b[1;31m---------------------------------------------------------------------------\u001b[0m",
      "\u001b[1;31mValueError\u001b[0m                                Traceback (most recent call last)",
      "\u001b[1;32m~\\AppData\\Local\\Temp/ipykernel_17568/1268709958.py\u001b[0m in \u001b[0;36m<module>\u001b[1;34m\u001b[0m\n\u001b[1;32m----> 1\u001b[1;33m \u001b[0mcdt\u001b[0m\u001b[1;33m(\u001b[0m\u001b[0mt\u001b[0m\u001b[1;33m)\u001b[0m\u001b[1;33m\u001b[0m\u001b[1;33m\u001b[0m\u001b[0m\n\u001b[0m",
      "\u001b[1;32mc:\\users\\aaros\\appdata\\local\\programs\\python\\python39\\lib\\site-packages\\torch\\nn\\modules\\module.py\u001b[0m in \u001b[0;36m_call_impl\u001b[1;34m(self, *input, **kwargs)\u001b[0m\n\u001b[0;32m   1049\u001b[0m         if not (self._backward_hooks or self._forward_hooks or self._forward_pre_hooks or _global_backward_hooks\n\u001b[0;32m   1050\u001b[0m                 or _global_forward_hooks or _global_forward_pre_hooks):\n\u001b[1;32m-> 1051\u001b[1;33m             \u001b[1;32mreturn\u001b[0m \u001b[0mforward_call\u001b[0m\u001b[1;33m(\u001b[0m\u001b[1;33m*\u001b[0m\u001b[0minput\u001b[0m\u001b[1;33m,\u001b[0m \u001b[1;33m**\u001b[0m\u001b[0mkwargs\u001b[0m\u001b[1;33m)\u001b[0m\u001b[1;33m\u001b[0m\u001b[1;33m\u001b[0m\u001b[0m\n\u001b[0m\u001b[0;32m   1052\u001b[0m         \u001b[1;31m# Do not call functions when jit is used\u001b[0m\u001b[1;33m\u001b[0m\u001b[1;33m\u001b[0m\u001b[1;33m\u001b[0m\u001b[0m\n\u001b[0;32m   1053\u001b[0m         \u001b[0mfull_backward_hooks\u001b[0m\u001b[1;33m,\u001b[0m \u001b[0mnon_full_backward_hooks\u001b[0m \u001b[1;33m=\u001b[0m \u001b[1;33m[\u001b[0m\u001b[1;33m]\u001b[0m\u001b[1;33m,\u001b[0m \u001b[1;33m[\u001b[0m\u001b[1;33m]\u001b[0m\u001b[1;33m\u001b[0m\u001b[1;33m\u001b[0m\u001b[0m\n",
      "\u001b[1;32mc:\\dev\\kornia\\kornia\\contrib\\distance_transform.py\u001b[0m in \u001b[0;36mforward\u001b[1;34m(self, input)\u001b[0m\n\u001b[0;32m    113\u001b[0m \u001b[1;33m\u001b[0m\u001b[0m\n\u001b[0;32m    114\u001b[0m     \u001b[1;32mdef\u001b[0m \u001b[0mforward\u001b[0m\u001b[1;33m(\u001b[0m\u001b[0mself\u001b[0m\u001b[1;33m,\u001b[0m \u001b[0minput\u001b[0m\u001b[1;33m:\u001b[0m \u001b[0mtorch\u001b[0m\u001b[1;33m.\u001b[0m\u001b[0mTensor\u001b[0m\u001b[1;33m)\u001b[0m \u001b[1;33m->\u001b[0m \u001b[0mtorch\u001b[0m\u001b[1;33m.\u001b[0m\u001b[0mTensor\u001b[0m\u001b[1;33m:\u001b[0m\u001b[1;33m\u001b[0m\u001b[1;33m\u001b[0m\u001b[0m\n\u001b[1;32m--> 115\u001b[1;33m         \u001b[1;32mreturn\u001b[0m \u001b[0mconv_distance_transform\u001b[0m\u001b[1;33m(\u001b[0m\u001b[0minput\u001b[0m\u001b[1;33m,\u001b[0m \u001b[0mself\u001b[0m\u001b[1;33m.\u001b[0m\u001b[0mkernel_size\u001b[0m\u001b[1;33m)\u001b[0m\u001b[1;33m\u001b[0m\u001b[1;33m\u001b[0m\u001b[0m\n\u001b[0m",
      "\u001b[1;32mc:\\dev\\kornia\\kornia\\contrib\\distance_transform.py\u001b[0m in \u001b[0;36mconv_distance_transform\u001b[1;34m(input, kernel_size)\u001b[0m\n\u001b[0;32m     56\u001b[0m \u001b[1;33m\u001b[0m\u001b[0m\n\u001b[0;32m     57\u001b[0m     \u001b[1;32mif\u001b[0m \u001b[1;32mnot\u001b[0m \u001b[0mlen\u001b[0m\u001b[1;33m(\u001b[0m\u001b[0minput\u001b[0m\u001b[1;33m.\u001b[0m\u001b[0mshape\u001b[0m\u001b[1;33m)\u001b[0m \u001b[1;33m==\u001b[0m \u001b[1;36m4\u001b[0m\u001b[1;33m:\u001b[0m\u001b[1;33m\u001b[0m\u001b[1;33m\u001b[0m\u001b[0m\n\u001b[1;32m---> 58\u001b[1;33m         \u001b[1;32mraise\u001b[0m \u001b[0mValueError\u001b[0m\u001b[1;33m(\u001b[0m\u001b[1;34mf\"Invalid input shape, we expect BxCxHxW. Got: {input.shape}\"\u001b[0m\u001b[1;33m)\u001b[0m\u001b[1;33m\u001b[0m\u001b[1;33m\u001b[0m\u001b[0m\n\u001b[0m\u001b[0;32m     59\u001b[0m \u001b[1;33m\u001b[0m\u001b[0m\n\u001b[0;32m     60\u001b[0m     \u001b[0mdevice\u001b[0m\u001b[1;33m:\u001b[0m \u001b[0mtorch\u001b[0m\u001b[1;33m.\u001b[0m\u001b[0mdevice\u001b[0m \u001b[1;33m=\u001b[0m \u001b[0minput\u001b[0m\u001b[1;33m.\u001b[0m\u001b[0mdevice\u001b[0m\u001b[1;33m\u001b[0m\u001b[1;33m\u001b[0m\u001b[0m\n",
      "\u001b[1;31mValueError\u001b[0m: Invalid input shape, we expect BxCxHxW. Got: torch.Size([1])"
     ]
    }
   ],
   "source": [
    "cdt(t)"
   ]
  },
  {
   "cell_type": "code",
   "execution_count": 8,
   "id": "6a4e5339-1931-4114-93ab-799e90a7e63f",
   "metadata": {},
   "outputs": [
    {
     "data": {
      "text/plain": [
       "torch.int32"
      ]
     },
     "execution_count": 8,
     "metadata": {},
     "output_type": "execute_result"
    }
   ],
   "source": [
    "t = torch.Tensor([[[[3, 2,1]]]]).to(torch.int)\n",
    "t.dtype"
   ]
  },
  {
   "cell_type": "code",
   "execution_count": 9,
   "id": "c8dbc20d-a2fd-4faa-956f-d9fa92f8dcf5",
   "metadata": {},
   "outputs": [
    {
     "data": {
      "text/plain": [
       "tensor([[[[0., 0., 0.]]]])"
      ]
     },
     "execution_count": 9,
     "metadata": {},
     "output_type": "execute_result"
    }
   ],
   "source": [
    "cdt(t)"
   ]
  },
  {
   "cell_type": "code",
   "execution_count": 10,
   "id": "88cf9556-cf26-41ba-96e4-d69a32069aca",
   "metadata": {},
   "outputs": [
    {
     "data": {
      "text/plain": [
       "tensor([[[[0., 0., 0.]]]])"
      ]
     },
     "execution_count": 10,
     "metadata": {},
     "output_type": "execute_result"
    }
   ],
   "source": [
    "t = torch.Tensor([[[[3, 2,1]]]])\n",
    "cdt(t)"
   ]
  },
  {
   "cell_type": "code",
   "execution_count": 11,
   "id": "25575890-3211-4892-bf75-dea8a4594821",
   "metadata": {},
   "outputs": [
    {
     "data": {
      "text/plain": [
       "tensor([[[[0.0000, 0.0000, 0.7285]]]])"
      ]
     },
     "execution_count": 11,
     "metadata": {},
     "output_type": "execute_result"
    }
   ],
   "source": [
    "t = torch.Tensor([[[[3, 2,0]]]]).to(torch.int)\n",
    "cdt(t)"
   ]
  },
  {
   "cell_type": "code",
   "execution_count": 12,
   "id": "525af159-2111-498f-9282-a9b0470b3e4f",
   "metadata": {},
   "outputs": [
    {
     "data": {
      "text/plain": [
       "tensor([[[[1.0000, 0.0000, 1.0000, 2.0000, 3.0000, 3.8733, 4.8104],\n",
       "          [1.4142, 1.0000, 1.4142, 2.2361, 3.1623, 3.7999, 4.7158],\n",
       "          [2.2361, 2.0000, 2.2361, 2.8284, 3.6056, 3.7999, 4.7158],\n",
       "          [3.1623, 3.0000, 3.1623, 3.6056, 4.2426, 3.8733, 4.8104],\n",
       "          [3.8733, 3.7994, 3.7931, 3.7994, 3.8733, 4.3428, 5.1447],\n",
       "          [4.8104, 4.7140, 4.7000, 4.7140, 4.8104, 5.1447, 5.7546],\n",
       "          [5.7875, 5.6844, 5.6639, 5.6844, 5.7875, 6.0631, 6.5530]]]])"
      ]
     },
     "execution_count": 12,
     "metadata": {},
     "output_type": "execute_result"
    }
   ],
   "source": [
    "t = torch.zeros((1,1,7,7))\n",
    "t[0,0,0,1]=1\n",
    "cdt(t)"
   ]
  },
  {
   "cell_type": "code",
   "execution_count": null,
   "id": "a91cb17c-87d7-4ca8-9f05-62f341b6b553",
   "metadata": {},
   "outputs": [],
   "source": [
    "# Play with value of lambda/h in DT_LogConv from Karam et als work, which is what Pham used\n"
   ]
  },
  {
   "cell_type": "code",
   "execution_count": 110,
   "id": "9b9e8a92-37a4-4a19-803b-ccd90f77584a",
   "metadata": {},
   "outputs": [],
   "source": [
    "def make_cdt_kernel(\n",
    "    kernel_size: int,\n",
    ") -> torch.Tensor:\n",
    "    # Value of h derived from the parameters used by Pham et. al in their proposal of the algorithm.\n",
    "    h = -0.35\n",
    "    grid_range = torch.Tensor(range(kernel_size))\n",
    "    \n",
    "    gridx, gridy = torch.meshgrid(grid_range, grid_range)\n",
    "    gridx = gridx - math.floor(kernel_size / 2)\n",
    "    gridy = gridy - math.floor(kernel_size / 2)\n",
    "    \n",
    "    kernel = torch.hypot(gridx, gridy) \n",
    "    kernel = torch.exp(kernel/h)\n",
    "    \n",
    "    # for BCHW tensors\n",
    "    kernel = torch.unsqueeze(kernel, 0)\n",
    "    kernel = torch.unsqueeze(kernel, 0)\n",
    "\n",
    "    return kernel\n",
    "\n",
    "def conv_distance_transform(\n",
    "    input: torch.Tensor,\n",
    "    kernel_size: int = 7\n",
    ") -> torch.Tensor:\n",
    "    r\"\"\"Approximate the Manhattan (city block) distance transform of images using convolutions.\n",
    "    \n",
    "    The value at each pixel in the output represents the distance to the nearest non-zero pixel in the input image.\n",
    "    The transformation is applied independently across the channel dimension of the inputs.\n",
    "\n",
    "    \n",
    "    Args:\n",
    "        input: input image tensor with shape :math:`(B,C,H,W)`.\n",
    "        kernel_size: size of the convolution kernel.\n",
    "\n",
    "    Returns:\n",
    "        tensor with shape :math:`(B,C,H,W)`.\n",
    "\n",
    "    \"\"\"\n",
    "    if not isinstance(input, torch.Tensor):\n",
    "        raise TypeError(f\"Input type is not a torch.Tensor. Got {type(input)}\")\n",
    "\n",
    "    if not len(input.shape) == 4:\n",
    "        raise ValueError(f\"Invalid input shape, we expect BxCxHxW. Got: {input.shape}\")\n",
    "\n",
    "    device: torch.device = input.device\n",
    "    dtype: torch.dtype = input.dtype\n",
    "\n",
    "    n_iters = math.ceil(max(input.shape[2], input.shape[3]) / math.floor(kernel_size / 2))\n",
    "    kernel = make_cdt_kernel(kernel_size)\n",
    "\n",
    "    out = torch.zeros(input.shape, dtype=torch.float32, device=device)\n",
    "\n",
    "    # It is possible to avoid cloning the input if boundary = input, but this would require modifying the input tensor.\n",
    "    boundary = input.clone().to(torch.float32)\n",
    "    kernel.to(device)\n",
    "\n",
    "    # If input images have multiple channels, view the channels in the batch dimension to match kernel shape.\n",
    "    if input.shape[1] > 1:\n",
    "        batch_channel_view_shape = (input.shape[0] * input.shape[1], 1, input.shape[2], input.shape[3])\n",
    "        out = out.view(*batch_channel_view_shape)\n",
    "        boundary = boundary.view(*batch_channel_view_shape)\n",
    "\n",
    "    for i in range(n_iters):\n",
    "        cdt = F.conv2d(boundary, kernel, padding='same')\n",
    "        cdt = -0.35*torch.log(cdt)\n",
    "\n",
    "        # We are calculating log(0) above.\n",
    "        torch.nan_to_num(cdt, out=cdt, posinf=0.0)\n",
    "\n",
    "        mask = cdt > 0\n",
    "        if mask.sum() == 0:\n",
    "            break\n",
    "        offset =  i * kernel_size / 2\n",
    "        out[mask] +=  offset + cdt[mask]\n",
    "        boundary[mask] = 1\n",
    "\n",
    "    # View channels in the channel dimension, if they were added to batch dimension during transform.\n",
    "    if input.shape[1] > 1:\n",
    "        out = out.view(input.shape)\n",
    "    return out"
   ]
  },
  {
   "cell_type": "code",
   "execution_count": 111,
   "id": "18798aef-b48f-4975-bfbc-0358b401777c",
   "metadata": {},
   "outputs": [
    {
     "data": {
      "text/plain": [
       "tensor([[[[51.3669, 50.4196, 49.4790,  ..., 40.5935, 40.6256, 40.7296],\n",
       "          [51.0870, 50.1234, 49.1642,  ..., 39.6361, 39.6609, 39.7639],\n",
       "          [50.8609, 49.8849, 48.9114,  ..., 38.6965, 38.7123, 38.8088],\n",
       "          ...,\n",
       "          [50.8609, 49.8849, 48.9114,  ..., 38.6965, 38.7123, 38.8088],\n",
       "          [51.0870, 50.1234, 49.1642,  ..., 39.6361, 39.6609, 39.7639],\n",
       "          [51.3669, 50.4196, 49.4790,  ..., 40.5935, 40.6256, 40.7296]],\n",
       "\n",
       "         [[ 0.0000,  0.0000,  0.0000,  ...,  0.0000,  0.0000,  0.0000],\n",
       "          [ 0.0000,  0.0000,  0.0000,  ...,  0.0000,  0.0000,  0.0000],\n",
       "          [ 0.0000,  0.0000,  0.0000,  ...,  0.0000,  0.0000,  0.0000],\n",
       "          ...,\n",
       "          [ 0.0000,  0.0000,  0.0000,  ...,  0.0000,  0.0000,  0.0000],\n",
       "          [ 0.0000,  0.0000,  0.0000,  ...,  0.0000,  0.0000,  0.0000],\n",
       "          [ 0.0000,  0.0000,  0.0000,  ...,  0.0000,  0.0000,  0.0000]],\n",
       "\n",
       "         [[20.3088, 19.3731, 22.1112,  ..., 28.1088, 29.0954, 30.0830],\n",
       "          [20.2123, 19.2993, 21.6333,  ..., 28.0167, 29.0053, 29.9949],\n",
       "          [20.1965, 19.2924, 21.1926,  ..., 27.9672, 28.9550, 29.9440],\n",
       "          ...,\n",
       "          [38.8088, 38.7123, 38.6965,  ..., 38.6965, 38.7123, 38.8088],\n",
       "          [39.7639, 39.6609, 39.6361,  ..., 39.6361, 39.6609, 39.7639],\n",
       "          [40.7296, 40.6256, 40.5935,  ..., 40.5935, 40.6256, 40.7296]]]])"
      ]
     },
     "execution_count": 111,
     "metadata": {},
     "output_type": "execute_result"
    }
   ],
   "source": [
    "conv_distance_transform(t, 37)"
   ]
  },
  {
   "cell_type": "code",
   "execution_count": null,
   "id": "67997d68-162b-4cb0-b464-dae991129964",
   "metadata": {},
   "outputs": [],
   "source": []
  },
  {
   "cell_type": "code",
   "execution_count": null,
   "id": "11a07bda-9ed9-469a-88e9-fdaa31864909",
   "metadata": {},
   "outputs": [],
   "source": []
  }
 ],
 "metadata": {
  "kernelspec": {
   "display_name": "Python 3 (ipykernel)",
   "language": "python",
   "name": "python3"
  },
  "language_info": {
   "codemirror_mode": {
    "name": "ipython",
    "version": 3
   },
   "file_extension": ".py",
   "mimetype": "text/x-python",
   "name": "python",
   "nbconvert_exporter": "python",
   "pygments_lexer": "ipython3",
   "version": "3.9.4"
  }
 },
 "nbformat": 4,
 "nbformat_minor": 5
}
